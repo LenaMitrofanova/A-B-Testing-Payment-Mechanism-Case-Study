{
 "cells": [
  {
   "cell_type": "markdown",
   "metadata": {},
   "source": [
    "# Функция для автоматизации добавления метрик, расчету метрик и визуализации\n",
    "\n",
    "Задача\n",
    "\n",
    "1. Реализовать функцию, которая будет автоматически подгружать информацию из дополнительного файла groups_add.csv (заголовки могут отличаться) и на основании дополнительных параметров пересчитывать метрики.\n",
    "2. Реализовать функцию, которая будет строить графики по получаемым метрикам.\n"
   ]
  },
  {
   "cell_type": "markdown",
   "metadata": {},
   "source": [
    "В качестве аргумента функции задаем ссылку на источник с дополнительными данными, при условии, что все ссылки на исходные данные неизменны."
   ]
  },
  {
   "cell_type": "code",
   "execution_count": 40,
   "metadata": {},
   "outputs": [],
   "source": [
    "def add_info(add_linc):\n",
    "    # Импортируем нужные библиотеки\n",
    "    import pandas as pd\n",
    "    import requests\n",
    "    import urllib\n",
    "    import json\n",
    "    import seaborn as sns\n",
    "    from matplotlib import pyplot as plt\n",
    "    %matplotlib inline\n",
    "    import numpy as np\n",
    "    from urllib.parse import urlencode\n",
    "    # Подгружаем наши данные\n",
    "    groups = pd.read_csv(requests.get(base_url + urlencode(dict(public_key='https://disk.yandex.ru/d/UhyYx41rTt3clQ'))).json()['href'], sep=';', error_bad_lines=False, comment='#' , encoding='cp1251')\n",
    "    checks = pd.read_csv(requests.get(base_url + urlencode(dict(public_key='https://disk.yandex.ru/d/pH1q-VqcxXjsVA'))).json()['href'], sep=';', error_bad_lines=False, comment='#' , encoding='cp1251')\n",
    "    active_studs = pd.read_csv(requests.get(base_url + urlencode(dict(public_key='https://disk.yandex.ru/d/Tbs44Bm6H_FwFQ'))).json()['href'], sep=',', error_bad_lines=False, comment='#' , encoding='cp1251')\n",
    "    group_add = pd.read_csv(requests.get(base_url + urlencode(dict(public_key=add_linc))).json()['href'], sep=',', error_bad_lines=False, comment='#' , encoding='cp1251')\n",
    "    # Переименовываем столбцы в данных с дополнительной информацией, чтоб обьединить\n",
    "    group_add.columns = groups.columns\n",
    "    # Обьединяем данные старые и новые\n",
    "    groups_all = pd.concat([groups, group_add], sort = False, axis = 0)\n",
    "    # Обьединяем таблицу с группами и активными студентами, отбрасываем неактивных пользователей и пользователей,\n",
    "    # не являющихся участниками эксперимента. \n",
    "    test_students = active_studs.merge(groups_all, left_on='student_id' , right_on='id', how = 'left').dropna()\n",
    "    test_students = test_students[['student_id', 'grp']]\n",
    "    # Объединяем таблицу с активными студентами, участвующими в тесте с информацией по чекам.\n",
    "    AB_data = test_students.merge(checks, on='student_id', how = 'left')\n",
    "    # Создаем категориальный столбец показывающий была ли совершена покупка у этого студента\n",
    "    AB_data['is_rev'] = AB_data.rev.notna().astype(int)\n",
    "    # Расчитываем конверсию в покупку\n",
    "    AB_conv = AB_data.groupby('grp', as_index = False).agg({'student_id': 'count', 'rev': 'count'})\n",
    "    AB_conv['CR'] = 100*(AB_conv['rev']/AB_conv['student_id']).round(4)\n",
    "    #Визуализируем конверсию в покупку по группам\n",
    "    #sns.barplot(data = AB_conv, x = 'grp', y = 'CR', palette='hls')\n",
    "    print(f\"В контрольной группе СR =  {AB_conv.CR[0]}%\")\n",
    "    print(f\"В целевой группе СR =  {AB_conv.CR[1]}%\")\n",
    "    #Оставляем только данные с совершенными покупками\n",
    "    AB_avg_check = AB_data.dropna()\n",
    "    AB_avg = AB_avg_check.groupby('grp', as_index = False).agg({'rev': 'sum', 'is_rev':'sum'})\n",
    "    AB_avg['avg_check'] = (AB_avg['rev']/AB_avg['is_rev']).round(2)\n",
    "    print(f\"В контрольной группе Средний чек =  {AB_avg.avg_check[0]} руб.\")\n",
    "    print(f\"В целевой группе Средний чек =  {AB_avg.avg_check[1]} руб.\")\n",
    "    plt.figure(figsize=(16, 8))\n",
    "    plt.subplot(1, 2, 1)\n",
    "    conv = sns.barplot(data = AB_conv, x = 'grp', y = 'CR', palette='hls')\n",
    "    conv.set_title(\"CR\")\n",
    "    plt.subplot(1, 2, 2)\n",
    "    avg = sns.boxplot(x = 'grp', y = 'rev', data = AB_avg_check, palette='hls' )\n",
    "    avg.set_title(\"Средний чек\")"
   ]
  },
  {
   "cell_type": "code",
   "execution_count": 41,
   "metadata": {},
   "outputs": [
    {
     "name": "stdout",
     "output_type": "stream",
     "text": [
      "В контрольной группе СR =  5.07%\n",
      "В целевой группе СR =  4.62%\n",
      "В контрольной группе Средний чек =  933.59 руб.\n",
      "В целевой группе Средний чек =  1257.88 руб.\n"
     ]
    },
    {
     "data": {
      "image/png": "[encoded data removed]",
      "text/plain": [
       "<Figure size 1152x576 with 2 Axes>"
      ]
     },
     "metadata": {
      "needs_background": "light"
     },
     "output_type": "display_data"
    }
   ],
   "source": [
    "add_info('https://disk.yandex.ru/d/5Kxrz02m3IBUwQ')"
   ]
  },
  {
   "cell_type": "code",
   "execution_count": null,
   "metadata": {},
   "outputs": [],
   "source": []
  }
 ],
 "metadata": {
  "kernelspec": {
   "display_name": "Python 3",
   "language": "python",
   "name": "python3"
  },
  "language_info": {
   "codemirror_mode": {
    "name": "ipython",
    "version": 3
   },
   "file_extension": ".py",
   "mimetype": "text/x-python",
   "name": "python",
   "nbconvert_exporter": "python",
   "pygments_lexer": "ipython3",
   "version": "3.7.3"
  }
 },
 "nbformat": 4,
 "nbformat_minor": 4
}
